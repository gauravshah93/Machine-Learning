{
 "cells": [
  {
   "cell_type": "code",
   "execution_count": 268,
   "metadata": {},
   "outputs": [],
   "source": [
    "import pandas as pd\n",
    "import numpy as np\n",
    "from sklearn.svm import SVR\n",
    "from sklearn.ensemble import RandomForestRegressor\n",
    "from sklearn.ensemble import GradientBoostingRegressor\n",
    "from sklearn.model_selection import(TimeSeriesSplit,KFold,ShuffleSplit,StratifiedKFold,GroupShuffleSplit,GroupKFold, StratifiedShuffleSplit)\n",
    "from sklearn.model_selection import GridSearchCV\n",
    "from sklearn.metrics import mean_squared_error\n",
    "from matplotlib import pyplot as plt\n",
    "pd.set_option('display.max_columns',30)"
   ]
  },
  {
   "cell_type": "code",
   "execution_count": 2,
   "metadata": {},
   "outputs": [],
   "source": [
    "data = pd.read_excel('C:\\\\Users\\\\shahg_000\\\\Downloads\\\\data.xlsx')\n",
    "df=data.set_index('Date')"
   ]
  },
  {
   "cell_type": "code",
   "execution_count": 277,
   "metadata": {},
   "outputs": [
    {
     "name": "stdout",
     "output_type": "stream",
     "text": [
      "Wall time: 26.9 ms\n"
     ]
    }
   ],
   "source": [
    "TrainingSet=df.loc[:'2002-12-31',:]\n",
    "TestSet=df.loc['2003-01-01':,:]"
   ]
  },
  {
   "cell_type": "code",
   "execution_count": 4,
   "metadata": {},
   "outputs": [],
   "source": [
    "def Stacking(toBeStacked,p):\n",
    "    n=p+1\n",
    "    stackedF=pd.DataFrame()\n",
    "    temp=np.zeros(shape=(1,n))\n",
    "    for cnum in range(toBeStacked.shape[1]):\n",
    "        temp1=np.zeros(shape=(1,n))\n",
    "        for rnum in range(n,len(toBeStacked)+1):\n",
    "            temp1=np.append(temp1,[np.flip(np.array(toBeStacked.iloc[rnum-n:rnum,cnum]))],axis=0)\n",
    "        temp1=np.delete(temp1,(0),axis=0)\n",
    "        temp=np.append(temp,temp1,axis=0)\n",
    "    return(pd.DataFrame(np.delete(temp,(0),axis=0)))"
   ]
  },
  {
   "cell_type": "code",
   "execution_count": 5,
   "metadata": {},
   "outputs": [],
   "source": [
    "def DummyVariables(toBeDummy):\n",
    "    p=int(toBeDummy.shape[0]/30)\n",
    "    finalDataframe = pd.DataFrame()\n",
    "    for i in range(0,29):\n",
    "        dummyframes = pd.DataFrame(data = 0, index=range(p),columns=range(28))\n",
    "        dummyframes.insert(i, \"DV\"+str(i), 1)\n",
    "        finalDataframe = finalDataframe.append(dummyframes)\n",
    "    dvAllZero = pd.DataFrame(data = 0, index=range(p),columns=range(28))\n",
    "    finalDataframe = finalDataframe.append(dvAllZero, ignore_index=True)\n",
    "    finalDataframe.drop(finalDataframe.iloc[:, 0:28], inplace = True, axis = 1) \n",
    "    finalDataframe = finalDataframe.fillna(0)\n",
    "    return(pd.concat([toBeDummy, finalDataframe], axis=1))"
   ]
  },
  {
   "cell_type": "code",
   "execution_count": 278,
   "metadata": {},
   "outputs": [
    {
     "name": "stdout",
     "output_type": "stream",
     "text": [
      "Wall time: 2min 27s\n"
     ]
    }
   ],
   "source": [
    "%%time\n",
    "TrainingStacked=Stacking(TrainingSet,90)\n",
    "TestStacked=Stacking(TestSet,90)"
   ]
  },
  {
   "cell_type": "code",
   "execution_count": 9,
   "metadata": {},
   "outputs": [
    {
     "name": "stderr",
     "output_type": "stream",
     "text": [
      "C:\\Users\\shahg_000\\Anaconda3\\lib\\site-packages\\pandas\\core\\frame.py:7123: FutureWarning: Sorting because non-concatenation axis is not aligned. A future version\n",
      "of pandas will change to not sort by default.\n",
      "\n",
      "To accept the future behavior, pass 'sort=False'.\n",
      "\n",
      "To retain the current behavior and silence the warning, pass 'sort=True'.\n",
      "\n",
      "  sort=sort,\n"
     ]
    }
   ],
   "source": [
    "TrainingDummyStacked=DummyVariables(TrainingStacked)\n",
    "TestDummyStacked=DummyVariables(TestStacked)"
   ]
  },
  {
   "cell_type": "code",
   "execution_count": 483,
   "metadata": {},
   "outputs": [
    {
     "name": "stdout",
     "output_type": "stream",
     "text": [
      "          0         1         2         3         4         5         6  \\\n",
      "0  0.011429  0.000000  0.009238 -0.002317 -0.002312 -0.004608  0.039865   \n",
      "1  0.037909  0.011429  0.000000  0.009238 -0.002317 -0.002312 -0.004608   \n",
      "2 -0.008791  0.037909  0.011429  0.000000  0.009238 -0.002317 -0.002312   \n",
      "3 -0.006645 -0.008791  0.037909  0.011429  0.000000  0.009238 -0.002317   \n",
      "4  0.015436 -0.006645 -0.008791  0.037909  0.011429  0.000000  0.009238   \n",
      "\n",
      "          7         8         9        10        11        12        13  \\\n",
      "0  0.024214 -0.028988 -0.016529 -0.009324  0.000000  0.023475  0.019185   \n",
      "1  0.039865  0.024214 -0.028988 -0.016529 -0.009324  0.000000  0.023475   \n",
      "2 -0.004608  0.039865  0.024214 -0.028988 -0.016529 -0.009324  0.000000   \n",
      "3 -0.002312 -0.004608  0.039865  0.024214 -0.028988 -0.016529 -0.009324   \n",
      "4 -0.002317 -0.002312 -0.004608  0.039865  0.024214 -0.028988 -0.016529   \n",
      "\n",
      "         14  ...  DV21  DV22  DV23  DV24  DV25  DV26  DV27  DV28  DV3  DV4  \\\n",
      "0  0.014634  ...   0.0   0.0   0.0   0.0   0.0   0.0   0.0   0.0  0.0  0.0   \n",
      "1  0.019185  ...   0.0   0.0   0.0   0.0   0.0   0.0   0.0   0.0  0.0  0.0   \n",
      "2  0.023475  ...   0.0   0.0   0.0   0.0   0.0   0.0   0.0   0.0  0.0  0.0   \n",
      "3  0.000000  ...   0.0   0.0   0.0   0.0   0.0   0.0   0.0   0.0  0.0  0.0   \n",
      "4 -0.009324  ...   0.0   0.0   0.0   0.0   0.0   0.0   0.0   0.0  0.0  0.0   \n",
      "\n",
      "   DV5  DV6  DV7  DV8  DV9  \n",
      "0  0.0  0.0  0.0  0.0  0.0  \n",
      "1  0.0  0.0  0.0  0.0  0.0  \n",
      "2  0.0  0.0  0.0  0.0  0.0  \n",
      "3  0.0  0.0  0.0  0.0  0.0  \n",
      "4  0.0  0.0  0.0  0.0  0.0  \n",
      "\n",
      "[5 rows x 120 columns]\n",
      "        count      mean       std      min       25%  50%       75%       max\n",
      "0    116940.0  0.000495  0.020534 -0.37949 -0.010234  0.0  0.011234  0.226528\n",
      "1    116940.0  0.000495  0.020534 -0.37949 -0.010236  0.0  0.011234  0.226528\n",
      "2    116940.0  0.000492  0.020534 -0.37949 -0.010242  0.0  0.011227  0.226528\n",
      "3    116940.0  0.000494  0.020533 -0.37949 -0.010239  0.0  0.011228  0.226528\n",
      "4    116940.0  0.000496  0.020534 -0.37949 -0.010237  0.0  0.011233  0.226528\n",
      "..        ...       ...       ...      ...       ...  ...       ...       ...\n",
      "DV5  116940.0  0.033333  0.179506  0.00000  0.000000  0.0  0.000000  1.000000\n",
      "DV6  116940.0  0.033333  0.179506  0.00000  0.000000  0.0  0.000000  1.000000\n",
      "DV7  116940.0  0.033333  0.179506  0.00000  0.000000  0.0  0.000000  1.000000\n",
      "DV8  116940.0  0.033333  0.179506  0.00000  0.000000  0.0  0.000000  1.000000\n",
      "DV9  116940.0  0.033333  0.179506  0.00000  0.000000  0.0  0.000000  1.000000\n",
      "\n",
      "[120 rows x 8 columns]\n"
     ]
    }
   ],
   "source": [
    "print(TrainingDummyStacked.head())\n",
    "print(TrainingDummyStacked.describe().transpose())"
   ]
  },
  {
   "cell_type": "code",
   "execution_count": 61,
   "metadata": {},
   "outputs": [],
   "source": [
    "y=TrainingDummyStacked.loc[:,0]\n",
    "X=TrainingDummyStacked.drop([0],axis=1)\n",
    "y_test=TestDummyStacked.loc[:,0]\n",
    "X_test=TestDummyStacked.drop([0],axis=1)"
   ]
  },
  {
   "cell_type": "code",
   "execution_count": 259,
   "metadata": {},
   "outputs": [
    {
     "name": "stdout",
     "output_type": "stream",
     "text": [
      "[3, {'C': 0.31622776601683794, 'gamma': 0.001}, -0.000506029791900988]\n",
      "[5, {'C': 0.01, 'gamma': 0.1}, -0.0004895798377606294]\n",
      "[7, {'C': 0.01, 'gamma': 1e-05}, -0.0004979474879402921]\n",
      "[9, {'C': 0.31622776601683794, 'gamma': 0.001}, -0.0004938671036207112]\n",
      "Wall time: 18min 4s\n"
     ]
    }
   ],
   "source": [
    "%%time\n",
    "k_folds=[3,5,7,9]\n",
    "temp1=[]\n",
    "for i in k_folds:    \n",
    "    C_range = np.logspace(-2, 0, 5)\n",
    "    gamma_range = np.logspace(-5, -1, 5)\n",
    "    param_grid = dict(gamma=gamma_range, C=C_range)\n",
    "    cv = TimeSeriesSplit(n_splits=i)\n",
    "    grid = GridSearchCV(SVR(kernel='rbf',cache_size=5000,epsilon=0.1), param_grid=param_grid, cv=cv, scoring='neg_mean_squared_error', n_jobs=-1)\n",
    "    grid.fit(X, y)\n",
    "    print([i,grid.best_params_, grid.best_score_])\n",
    "    temp1.append([i,grid.best_params_, grid.best_score_])"
   ]
  },
  {
   "cell_type": "code",
   "execution_count": 484,
   "metadata": {},
   "outputs": [
    {
     "data": {
      "image/png": "[encoded data removed]",
      "text/plain": [
       "<Figure size 432x288 with 1 Axes>"
      ]
     },
     "metadata": {},
     "output_type": "display_data"
    },
    {
     "name": "stdout",
     "output_type": "stream",
     "text": [
      "Minimum MSE corresponds to k_folds= 5\n",
      "Optimal Hyperparamaters: {'C': 0.01, 'gamma': 0.1}\n"
     ]
    }
   ],
   "source": [
    "plt.plot(np.array(temp1)[:,0],np.array(temp1)[:,2])\n",
    "plt.ylim(plt.ylim()[::-1])\n",
    "plt.xlabel('Number of folds')\n",
    "plt.ylabel('Mean Square Error')\n",
    "plt.show()\n",
    "print(\"Minimum MSE corresponds to k_folds=\", temp1[1][0])\n",
    "print(\"Optimal Hyperparamaters:\", temp1[1][1])"
   ]
  },
  {
   "cell_type": "code",
   "execution_count": 485,
   "metadata": {},
   "outputs": [
    {
     "name": "stdout",
     "output_type": "stream",
     "text": [
      "R squared of Train Set:  -0.16540110796452992\n",
      "R squared of Test Set:  -0.12097083914672457\n",
      "MSE of Train Set:  0.0004913612356904043\n",
      "MSE of Test Set:  0.0005456991905597548\n",
      "Wall time: 16.1 s\n"
     ]
    },
    {
     "data": {
      "text/plain": [
       "SVR(C=0.01, cache_size=5000, coef0=0.0, degree=3, epsilon=0.1, gamma=0.1,\n",
       "  kernel='rbf', max_iter=-1, shrinking=True, tol=0.001, verbose=False)"
      ]
     },
     "execution_count": 485,
     "metadata": {},
     "output_type": "execute_result"
    }
   ],
   "source": [
    "%%time\n",
    "rSVR = SVR(kernel='rbf', gamma=0.1, C=0.01, cache_size=5000, epsilon=0.1)\n",
    "rSVR.fit(X, y)\n",
    "print(\"R squared of Train Set: \",rSVR.score(X,y))\n",
    "print(\"R squared of Test Set: \",rSVR.score(X_test,y_test))\n",
    "print(\"MSE of Train Set: \",mean_squared_error(y,rSVR.predict(X)))\n",
    "print(\"MSE of Test Set: \",mean_squared_error(y_test,rSVR.predict(X_test)))\n",
    "rSVR"
   ]
  },
  {
   "cell_type": "code",
   "execution_count": 262,
   "metadata": {},
   "outputs": [
    {
     "name": "stdout",
     "output_type": "stream",
     "text": [
      "Wall time: 3min 9s\n"
     ]
    },
    {
     "data": {
      "text/plain": [
       "RandomForestRegressor(bootstrap=True, criterion='mse', max_depth=None,\n",
       "           max_features='sqrt', max_leaf_nodes=None,\n",
       "           min_impurity_decrease=0.0, min_impurity_split=None,\n",
       "           min_samples_leaf=1, min_samples_split=2,\n",
       "           min_weight_fraction_leaf=0.0, n_estimators=100, n_jobs=-1,\n",
       "           oob_score=False, random_state=5, verbose=0, warm_start=True)"
      ]
     },
     "execution_count": 262,
     "metadata": {},
     "output_type": "execute_result"
    }
   ],
   "source": [
    "%%time\n",
    "Rfr=RandomForestRegressor(n_estimators=100,criterion='mse',max_features='sqrt',n_jobs=-1, warm_start=True,random_state=5)\n",
    "Rfr.fit(X,y)"
   ]
  },
  {
   "cell_type": "code",
   "execution_count": 263,
   "metadata": {},
   "outputs": [
    {
     "name": "stdout",
     "output_type": "stream",
     "text": [
      "R squared of Train Set:  0.8663007648026346\n",
      "R squared of Test Set:  -0.02394235961471325\n",
      "MSE of Train Set:  5.6370824575738186e-05\n",
      "MSE of Test Set:  0.0004984648104199768\n"
     ]
    }
   ],
   "source": [
    "print(\"R squared of Train Set: \",Rfr.score(X,y))\n",
    "print(\"R squared of Test Set: \",Rfr.score(X_test,y_test))\n",
    "print(\"MSE of Train Set: \",mean_squared_error(y,Rfr.predict(X)))\n",
    "print(\"MSE of Test Set: \",mean_squared_error(y_test,Rfr.predict(X_test)))"
   ]
  },
  {
   "cell_type": "code",
   "execution_count": 243,
   "metadata": {},
   "outputs": [
    {
     "name": "stdout",
     "output_type": "stream",
     "text": [
      "Wall time: 6min 55s\n"
     ]
    },
    {
     "data": {
      "text/plain": [
       "GradientBoostingRegressor(alpha=0.9, criterion='friedman_mse', init=None,\n",
       "             learning_rate=0.1, loss='ls', max_depth=3, max_features=None,\n",
       "             max_leaf_nodes=None, min_impurity_decrease=0.0,\n",
       "             min_impurity_split=None, min_samples_leaf=1,\n",
       "             min_samples_split=2, min_weight_fraction_leaf=0.0,\n",
       "             n_estimators=300, presort='auto', random_state=5,\n",
       "             subsample=1.0, verbose=0, warm_start=True)"
      ]
     },
     "execution_count": 243,
     "metadata": {},
     "output_type": "execute_result"
    }
   ],
   "source": [
    "%%time\n",
    "Gbr=GradientBoostingRegressor(learning_rate=0.1,n_estimators=300, max_depth=3, random_state=5, warm_start=True)\n",
    "Gbr.fit(X,y)"
   ]
  },
  {
   "cell_type": "code",
   "execution_count": 232,
   "metadata": {},
   "outputs": [
    {
     "name": "stdout",
     "output_type": "stream",
     "text": [
      "0.02844810140481413\n",
      "-0.025838709743775556\n",
      "0.0004096297302006843\n",
      "0.0004993879715712829\n"
     ]
    }
   ],
   "source": [
    "# print(Gbr.score(X,y))\n",
    "# print(Gbr.score(X_test,y_test))\n",
    "# print(mean_squared_error(y,Gbr.predict(X)))\n",
    "# print(mean_squared_error(y_test,Gbr.predict(X_test)))\n",
    "# # lr 0.1/100/2"
   ]
  },
  {
   "cell_type": "code",
   "execution_count": 234,
   "metadata": {},
   "outputs": [
    {
     "name": "stdout",
     "output_type": "stream",
     "text": [
      "0.0076761714315485285\n",
      "-0.0063792026183047135\n",
      "0.00041838767723676086\n",
      "0.0004899148997337101\n"
     ]
    }
   ],
   "source": [
    "# print(Gbr.score(X,y))\n",
    "# print(Gbr.score(X_test,y_test))\n",
    "# print(mean_squared_error(y,Gbr.predict(X)))\n",
    "# print(mean_squared_error(y_test,Gbr.predict(X_test)))\n",
    "# # lr 0.01/100/2"
   ]
  },
  {
   "cell_type": "code",
   "execution_count": 238,
   "metadata": {},
   "outputs": [
    {
     "name": "stdout",
     "output_type": "stream",
     "text": [
      "0.012042661984975833\n",
      "-0.009470666469451272\n",
      "0.0004165466594281286\n",
      "0.0004914198535311697\n"
     ]
    }
   ],
   "source": [
    "# print(Gbr.score(X,y))\n",
    "# print(Gbr.score(X_test,y_test))\n",
    "# print(mean_squared_error(y,Gbr.predict(X)))\n",
    "# print(mean_squared_error(y_test,Gbr.predict(X_test)))\n",
    "# # lr 0.01/200/2"
   ]
  },
  {
   "cell_type": "code",
   "execution_count": 240,
   "metadata": {},
   "outputs": [
    {
     "name": "stdout",
     "output_type": "stream",
     "text": [
      "0.012374924831221268\n",
      "-0.005003387412566118\n",
      "0.0004164065693925267\n",
      "0.0004892451398988308\n"
     ]
    }
   ],
   "source": [
    "# print(Gbr.score(X,y))\n",
    "# print(Gbr.score(X_test,y_test))\n",
    "# print(mean_squared_error(y,Gbr.predict(X)))\n",
    "# print(mean_squared_error(y_test,Gbr.predict(X_test)))\n",
    "# # lr 0.01/100/3"
   ]
  },
  {
   "cell_type": "code",
   "execution_count": 242,
   "metadata": {},
   "outputs": [
    {
     "name": "stdout",
     "output_type": "stream",
     "text": [
      "0.04856309400813952\n",
      "-0.048377609760004166\n",
      "0.0004011487638158693\n",
      "0.000510360120948804\n"
     ]
    }
   ],
   "source": [
    "# print(Gbr.score(X,y))\n",
    "# print(Gbr.score(X_test,y_test))\n",
    "# print(mean_squared_error(y,Gbr.predict(X)))\n",
    "# print(mean_squared_error(y_test,Gbr.predict(X_test)))\n",
    "# # lr 0.1/100/3"
   ]
  },
  {
   "cell_type": "code",
   "execution_count": 244,
   "metadata": {},
   "outputs": [
    {
     "name": "stdout",
     "output_type": "stream",
     "text": [
      "0.09398990350033098\n",
      "-0.07803236668610647\n",
      "0.0003819957244948915\n",
      "0.0005247963366697575\n"
     ]
    }
   ],
   "source": [
    "# print(Gbr.score(X,y))\n",
    "# print(Gbr.score(X_test,y_test))\n",
    "# print(mean_squared_error(y,Gbr.predict(X)))\n",
    "# print(mean_squared_error(y_test,Gbr.predict(X_test)))\n",
    "# # lr 0.1/300/3"
   ]
  },
  {
   "cell_type": "code",
   "execution_count": 256,
   "metadata": {},
   "outputs": [
    {
     "name": "stdout",
     "output_type": "stream",
     "text": [
      "[3, {'learning_rate': 0.1, 'n_estimators': 100}, -0.0004150851579774712]\n",
      "[5, {'learning_rate': 0.1, 'n_estimators': 100}, -0.00040423969016882143]\n",
      "[7, {'learning_rate': 0.1, 'n_estimators': 100}, -0.0004116567062804378]\n",
      "[9, {'learning_rate': 0.1, 'n_estimators': 100}, -0.00041156627807222875]\n",
      "Wall time: 1h 16min 15s\n"
     ]
    }
   ],
   "source": [
    "%%time\n",
    "k_folds=[3,5,7,9]\n",
    "temp=[]\n",
    "for i in k_folds:    \n",
    "    learning_rate_r=np.array([0.01,0.1])\n",
    "    n_estimators_r = np.array([50,75,100])\n",
    "    param_grid = dict(learning_rate=learning_rate_r, n_estimators=n_estimators_r)\n",
    "    cv = TimeSeriesSplit(n_splits=i)\n",
    "    grid = GridSearchCV(GradientBoostingRegressor(max_depth=3, random_state=5, warm_start=True), param_grid=param_grid, cv=cv, scoring='neg_mean_squared_error', n_jobs=-1)\n",
    "    grid.fit(X, y)\n",
    "    print([i,grid.best_params_, grid.best_score_])\n",
    "    temp.append([i,grid.best_params_, grid.best_score_])"
   ]
  },
  {
   "cell_type": "code",
   "execution_count": 489,
   "metadata": {},
   "outputs": [
    {
     "data": {
      "image/png": "[encoded data removed]",
      "text/plain": [
       "<Figure size 432x288 with 1 Axes>"
      ]
     },
     "metadata": {},
     "output_type": "display_data"
    },
    {
     "name": "stdout",
     "output_type": "stream",
     "text": [
      "Minimum MSE corresponds to k_folds= 5\n",
      "Optimal Hyperparamaters: {'learning_rate': 0.1, 'n_estimators': 100}\n"
     ]
    }
   ],
   "source": [
    "plt.plot(np.array(temp)[:,0],np.array(temp)[:,2])\n",
    "plt.ylim(plt.ylim()[::-1])\n",
    "plt.xlabel('Number of folds')\n",
    "plt.ylabel('Mean Square Error')\n",
    "plt.show()\n",
    "print(\"Minimum MSE corresponds to k_folds=\", temp[1][0])\n",
    "print(\"Optimal Hyperparamaters:\", temp[1][1])"
   ]
  },
  {
   "cell_type": "code",
   "execution_count": 258,
   "metadata": {},
   "outputs": [
    {
     "name": "stdout",
     "output_type": "stream",
     "text": [
      "R squared of Train Set:  0.04856309400813952\n",
      "R squared of Test Set:  -0.048377609760004166\n",
      "MSE of Train Set:  0.0004011487638158693\n",
      "MSE of Test Set:  0.000510360120948804\n",
      "Wall time: 2min 9s\n"
     ]
    }
   ],
   "source": [
    "%%time\n",
    "Gbr=GradientBoostingRegressor(learning_rate=0.1,n_estimators=100, max_depth=3, random_state=5, warm_start=True)\n",
    "Gbr.fit(X,y)\n",
    "print(\"R squared of Train Set: \",Gbr.score(X,y))\n",
    "print(\"R squared of Test Set: \",Gbr.score(X_test,y_test))\n",
    "print(\"MSE of Train Set: \",mean_squared_error(y,Gbr.predict(X)))\n",
    "print(\"MSE of Test Set: \",mean_squared_error(y_test,Gbr.predict(X_test)))"
   ]
  },
  {
   "cell_type": "code",
   "execution_count": 490,
   "metadata": {},
   "outputs": [
    {
     "data": {
      "text/plain": [
       "GradientBoostingRegressor(alpha=0.9, criterion='friedman_mse', init=None,\n",
       "             learning_rate=0.1, loss='ls', max_depth=3, max_features=None,\n",
       "             max_leaf_nodes=None, min_impurity_decrease=0.0,\n",
       "             min_impurity_split=None, min_samples_leaf=1,\n",
       "             min_samples_split=2, min_weight_fraction_leaf=0.0,\n",
       "             n_estimators=100, presort='auto', random_state=5,\n",
       "             subsample=1.0, verbose=0, warm_start=True)"
      ]
     },
     "execution_count": 490,
     "metadata": {},
     "output_type": "execute_result"
    }
   ],
   "source": [
    "Gbr"
   ]
  },
  {
   "cell_type": "code",
   "execution_count": 264,
   "metadata": {},
   "outputs": [
    {
     "name": "stdout",
     "output_type": "stream",
     "text": [
      "Radial Kernel : MSE of Test Set:  0.0005456991905597548\n",
      "Random Forest : MSE of Test Set:  0.0004984648104199768\n",
      "Boosted Trees : MSE of Test Set:  0.000510360120948804\n"
     ]
    }
   ],
   "source": [
    "print(\"Radial Kernel : MSE of Test Set: \",mean_squared_error(y_test,rSVR.predict(X_test)))\n",
    "print(\"Random Forest : MSE of Test Set: \",mean_squared_error(y_test,Rfr.predict(X_test)))\n",
    "print(\"Boosted Trees : MSE of Test Set: \",mean_squared_error(y_test,Gbr.predict(X_test)))"
   ]
  },
  {
   "cell_type": "markdown",
   "metadata": {},
   "source": [
    "## Q.7 Trading Strategy"
   ]
  },
  {
   "cell_type": "code",
   "execution_count": 408,
   "metadata": {},
   "outputs": [],
   "source": [
    "jump=int(len(y_test)/30)\n",
    "vec=np.array(y_test)\n",
    "y_test_jump=[]\n",
    "for i in range(0,jump):\n",
    "    temp_bit=vec[::jump,]\n",
    "    y_test_jump.append(temp_bit)\n",
    "    vec=np.delete(vec,0)\n",
    "y_test_true=pd.DataFrame(y_test_jump)\n",
    "\n",
    "y_pred=Rfr.predict(X_test)\n",
    "jump=int(len(y_pred)/30)\n",
    "vec=np.array(y_pred)\n",
    "y_pred_jump=[]\n",
    "for i in range(0,jump):\n",
    "    temp_bit=vec[::jump,]\n",
    "    y_pred_jump.append(temp_bit)\n",
    "    vec=np.delete(vec,0)\n",
    "y_test_pred=pd.DataFrame(y_pred_jump)\n",
    "\n",
    "y_test_pred.columns=TestSet.columns.values\n",
    "y_test_true.columns=TestSet.columns.values"
   ]
  },
  {
   "cell_type": "code",
   "execution_count": 395,
   "metadata": {},
   "outputs": [],
   "source": [
    "def splitter_func(n_trade):    \n",
    "#     n_trade=5\n",
    "    splitter=y_test_pred\n",
    "    split_pred=[]\n",
    "    for i in range(int(len(splitter)/n_trade)):\n",
    "        split_pred.append(np.sum(np.array(splitter.iloc[i*n_trade:i*n_trade+n_trade-1]),axis=0))\n",
    "    split_pred_df=pd.DataFrame(split_pred)\n",
    "    split_pred_df.columns=TestSet.columns.values\n",
    "    return split_pred_df"
   ]
  },
  {
   "cell_type": "code",
   "execution_count": 409,
   "metadata": {},
   "outputs": [],
   "source": [
    "df2 = y_test_pred\n",
    "nlargest = 5\n",
    "order = np.argsort(-df2.values, axis=1)[:, :nlargest]\n",
    "result_max = pd.DataFrame(df2.columns[order], columns=['top{}'.format(i) for i in range(1, nlargest+1)],index=df2.index)\n",
    "\n",
    "df2 = y_test_pred\n",
    "nlargest = 5\n",
    "order = np.argsort(df2.values, axis=1)[:, :nlargest]\n",
    "result_min = pd.DataFrame(df2.columns[order], columns=['top{}'.format(i) for i in range(1, nlargest+1)],index=df2.index)"
   ]
  },
  {
   "cell_type": "code",
   "execution_count": 491,
   "metadata": {
    "scrolled": true
   },
   "outputs": [
    {
     "data": {
      "image/png": "[encoded data removed]",
      "text/plain": [
       "<Figure size 432x288 with 1 Axes>"
      ]
     },
     "metadata": {},
     "output_type": "display_data"
    },
    {
     "name": "stdout",
     "output_type": "stream",
     "text": [
      "Daily trading Final portfolio value : 597257.2306657671\n"
     ]
    }
   ],
   "source": [
    "pnl=[]\n",
    "port=1000000\n",
    "for i in range(0,len(result_max)):\n",
    "    perstock=0.1*port\n",
    "    max_5=np.exp(np.array(y_test_true.loc[i,np.array(result_max.iloc[i])]))-1\n",
    "    min_5=np.exp(np.array(y_test_true.loc[i,np.array(result_min.iloc[i])]))-1\n",
    "    daily_p=0\n",
    "    daily_p=sum(perstock*max_5)-sum(perstock*min_5)\n",
    "    port=port+daily_p-port*0.0005\n",
    "    pnl.append(port)\n",
    "dates_test=np.delete(np.array(TestSet.index),range(0,90))\n",
    "plt.plot(dates_test,pnl)\n",
    "plt.ylabel('P N L')\n",
    "plt.xlabel('Years')\n",
    "plt.title('Long Short trading strategy PNL for daily freq trading')\n",
    "plt.show()\n",
    "print(\"Daily trading Final portfolio value :\",port)"
   ]
  },
  {
   "cell_type": "code",
   "execution_count": 469,
   "metadata": {},
   "outputs": [],
   "source": [
    "def trading_strategy(n_trade):\n",
    "    \n",
    "    input_df=splitter_func(y_test_pred,n_trade)\n",
    "    input_df_true=splitter_func(y_test_true,n_trade)\n",
    "    \n",
    "    df2 = input_df\n",
    "    nlargest = 5\n",
    "    order = np.argsort(-df2.values, axis=1)[:, :nlargest]\n",
    "    result_max = pd.DataFrame(df2.columns[order], columns=['top{}'.format(i) for i in range(1, nlargest+1)],index=df2.index)\n",
    "\n",
    "    df2 = input_df\n",
    "    nlargest = 5\n",
    "    order = np.argsort(df2.values, axis=1)[:, :nlargest]\n",
    "    result_min = pd.DataFrame(df2.columns[order], columns=['top{}'.format(i) for i in range(1, nlargest+1)],index=df2.index)\n",
    "\n",
    "    pnl=[]\n",
    "    port=1000000\n",
    "    for i in range(0,len(result_max)):\n",
    "        perstock=0.1*port\n",
    "        max_5=np.exp(np.array(input_df_true.loc[i,np.array(result_max.iloc[i])]))-1\n",
    "        min_5=np.exp(np.array(input_df_true.loc[i,np.array(result_min.iloc[i])]))-1\n",
    "        daily_p=0\n",
    "        daily_p=sum(perstock*max_5)-sum(perstock*min_5)\n",
    "        port=port+daily_p-port*0.0005\n",
    "        pnl.append(port)\n",
    "    print(n_trade,\" day freq. trading : Final portfolio value :\",port)\n",
    "    dates_test=np.delete(np.array(TestSet.index),range(0,90))[::n_trade]\n",
    "    return port,pnl,dates_test"
   ]
  },
  {
   "cell_type": "code",
   "execution_count": 472,
   "metadata": {},
   "outputs": [
    {
     "name": "stdout",
     "output_type": "stream",
     "text": [
      "2  day freq. trading : Final portfolio value : 811641.489175154\n",
      "3  day freq. trading : Final portfolio value : 1177469.3319886206\n",
      "4  day freq. trading : Final portfolio value : 668238.6856799033\n",
      "5  day freq. trading : Final portfolio value : 581070.0626878216\n",
      "10  day freq. trading : Final portfolio value : 293750.1876725432\n",
      "15  day freq. trading : Final portfolio value : 270585.7220611559\n",
      "20  day freq. trading : Final portfolio value : 279836.6908005289\n"
     ]
    },
    {
     "data": {
      "image/png": "[encoded data removed]",
      "text/plain": [
       "<Figure size 432x288 with 1 Axes>"
      ]
     },
     "metadata": {},
     "output_type": "display_data"
    }
   ],
   "source": [
    "pft=[]\n",
    "days=[2,3,4,5,10,15,20]\n",
    "for i in days:\n",
    "    pft.append(trading_strategy(i))\n",
    "plt.plot(days,np.array(pft)[:,0])\n",
    "plt.ylabel('P N L')\n",
    "plt.xlabel('Frequency of Trading')\n",
    "plt.title('Long Short trading strategy PNL with transaction cost')\n",
    "plt.show()"
   ]
  },
  {
   "cell_type": "code",
   "execution_count": 476,
   "metadata": {},
   "outputs": [
    {
     "data": {
      "image/png": "[encoded data removed]",
      "text/plain": [
       "<Figure size 432x288 with 1 Axes>"
      ]
     },
     "metadata": {},
     "output_type": "display_data"
    },
    {
     "name": "stdout",
     "output_type": "stream",
     "text": [
      "3 day freq. trading : Final portfolio value : 1177469.3319886206\n"
     ]
    }
   ],
   "source": [
    "plt.plot(np.array(pft)[1,2],np.array(pft)[1,1])\n",
    "plt.ylabel('P N L')\n",
    "plt.xlabel('Years')\n",
    "plt.title('Long Short trading strategy PNL for 3 day freq trading')\n",
    "plt.show()\n",
    "print(\"3 day freq. trading : Final portfolio value :\",np.array(pft)[1,0])"
   ]
  },
  {
   "cell_type": "markdown",
   "metadata": {},
   "source": [
    "# END"
   ]
  },
  {
   "cell_type": "code",
   "execution_count": null,
   "metadata": {},
   "outputs": [],
   "source": []
  }
 ],
 "metadata": {
  "kernelspec": {
   "display_name": "Python 3",
   "language": "python",
   "name": "python3"
  },
  "language_info": {
   "codemirror_mode": {
    "name": "ipython",
    "version": 3
   },
   "file_extension": ".py",
   "mimetype": "text/x-python",
   "name": "python",
   "nbconvert_exporter": "python",
   "pygments_lexer": "ipython3",
   "version": "3.6.5"
  }
 },
 "nbformat": 4,
 "nbformat_minor": 2
}
